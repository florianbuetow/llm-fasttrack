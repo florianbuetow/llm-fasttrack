{
 "cells": [
  {
   "cell_type": "markdown",
   "source": [
    "# Experimenting with PyTorch and Transformers\n",
    "\n",
    "This notebook is a playground for experimenting with PyTorch and Transformers. The goal is to get a better understanding of how to use these libraries and how to apply them to different tasks."
   ],
   "metadata": {
    "collapsed": false
   },
   "id": "5f2c43569c9fc015"
  },
  {
   "cell_type": "code",
   "outputs": [],
   "source": [],
   "metadata": {
    "collapsed": false,
    "ExecuteTime": {
     "end_time": "2024-04-17T09:37:40.031206Z",
     "start_time": "2024-04-17T09:37:39.915716Z"
    }
   },
   "id": "eb3709ae7f951c75",
   "execution_count": 1
  },
  {
   "cell_type": "markdown",
   "source": [
    "# Basics of Transformers"
   ],
   "metadata": {
    "collapsed": false
   },
   "id": "a16842ba1fa4cbce"
  },
  {
   "cell_type": "code",
   "outputs": [],
   "source": [],
   "metadata": {
    "collapsed": false,
    "ExecuteTime": {
     "end_time": "2024-04-17T09:37:40.122972Z",
     "start_time": "2024-04-17T09:37:40.037202Z"
    }
   },
   "id": "2b459dec3770a0a3",
   "execution_count": 1
  },
  {
   "cell_type": "markdown",
   "source": [
    "# Architecture of a Transformer Model"
   ],
   "metadata": {
    "collapsed": false
   },
   "id": "4e46181467b46e7a"
  },
  {
   "cell_type": "code",
   "outputs": [],
   "source": [],
   "metadata": {
    "collapsed": false,
    "ExecuteTime": {
     "end_time": "2024-04-17T09:37:40.249105Z",
     "start_time": "2024-04-17T09:37:40.116809Z"
    }
   },
   "id": "ea239074f0947fc1",
   "execution_count": 1
  },
  {
   "cell_type": "markdown",
   "source": [
    "# Fine-Tuning BERT Models"
   ],
   "metadata": {
    "collapsed": false
   },
   "id": "dd0a5c54a38b2606"
  },
  {
   "cell_type": "code",
   "outputs": [],
   "source": [],
   "metadata": {
    "collapsed": false,
    "ExecuteTime": {
     "end_time": "2024-04-17T09:37:40.282899Z",
     "start_time": "2024-04-17T09:37:40.256014Z"
    }
   },
   "id": "c1077efe0b1fdf16",
   "execution_count": 1
  },
  {
   "cell_type": "markdown",
   "source": [
    "# Pretraining RoBERTa from Scratch"
   ],
   "metadata": {
    "collapsed": false
   },
   "id": "9ad23bc3f8d081fc"
  },
  {
   "cell_type": "code",
   "outputs": [],
   "source": [],
   "metadata": {
    "collapsed": false,
    "ExecuteTime": {
     "end_time": "2024-04-17T09:37:40.331344Z",
     "start_time": "2024-04-17T09:37:40.286708Z"
    }
   },
   "id": "ec771f0acb760932",
   "execution_count": 1
  },
  {
   "cell_type": "markdown",
   "source": [
    "# Downstream NLP Tasks using Transformers"
   ],
   "metadata": {
    "collapsed": false
   },
   "id": "e6012f015272d8e5"
  },
  {
   "cell_type": "code",
   "outputs": [],
   "source": [],
   "metadata": {
    "collapsed": false,
    "ExecuteTime": {
     "end_time": "2024-04-17T09:37:40.371256Z",
     "start_time": "2024-04-17T09:37:40.316170Z"
    }
   },
   "id": "11cd62f1cae69206",
   "execution_count": 1
  },
  {
   "cell_type": "markdown",
   "source": [
    "# Machine Translation with Transformers"
   ],
   "metadata": {
    "collapsed": false
   },
   "id": "32223931d58c92a4"
  },
  {
   "cell_type": "code",
   "outputs": [],
   "source": [],
   "metadata": {
    "collapsed": false,
    "ExecuteTime": {
     "end_time": "2024-04-17T09:37:40.397635Z",
     "start_time": "2024-04-17T09:37:40.375687Z"
    }
   },
   "id": "94531e7a9c460ce7",
   "execution_count": 1
  },
  {
   "cell_type": "markdown",
   "source": [
    "# The Ries of Transformers with GPT-3"
   ],
   "metadata": {
    "collapsed": false
   },
   "id": "9d41858fb4b46b34"
  },
  {
   "cell_type": "code",
   "outputs": [],
   "source": [],
   "metadata": {
    "collapsed": false,
    "ExecuteTime": {
     "end_time": "2024-04-17T09:37:40.491781Z",
     "start_time": "2024-04-17T09:37:40.399588Z"
    }
   },
   "id": "6043897d7beda652",
   "execution_count": 1
  },
  {
   "cell_type": "markdown",
   "source": [
    "# Text summarization with Transformers"
   ],
   "metadata": {
    "collapsed": false
   },
   "id": "3daf9e3de2dedbb"
  },
  {
   "cell_type": "code",
   "outputs": [],
   "source": [],
   "metadata": {
    "collapsed": false,
    "ExecuteTime": {
     "end_time": "2024-04-17T09:37:40.516399Z",
     "start_time": "2024-04-17T09:37:40.482872Z"
    }
   },
   "id": "313bc9ae4ae55e86",
   "execution_count": 1
  },
  {
   "cell_type": "markdown",
   "source": [
    "# Tokenizers and Datasets"
   ],
   "metadata": {
    "collapsed": false
   },
   "id": "8228e7e1fc935768"
  },
  {
   "cell_type": "code",
   "outputs": [],
   "source": [],
   "metadata": {
    "collapsed": false,
    "ExecuteTime": {
     "end_time": "2024-04-17T09:37:40.581560Z",
     "start_time": "2024-04-17T09:37:40.524498Z"
    }
   },
   "id": "c680c675bda54a74",
   "execution_count": 1
  },
  {
   "cell_type": "markdown",
   "source": [
    "# Semantic Labeling with BERT-based Transformers"
   ],
   "metadata": {
    "collapsed": false
   },
   "id": "57cc03407c8e34e3"
  },
  {
   "cell_type": "code",
   "outputs": [],
   "source": [],
   "metadata": {
    "collapsed": false,
    "ExecuteTime": {
     "end_time": "2024-04-17T09:37:40.624517Z",
     "start_time": "2024-04-17T09:37:40.565879Z"
    }
   },
   "id": "21aabf2ba89a4853",
   "execution_count": 1
  },
  {
   "cell_type": "markdown",
   "source": [
    "# Question Answering with Transformers"
   ],
   "metadata": {
    "collapsed": false
   },
   "id": "a3cca1df3341375a"
  },
  {
   "cell_type": "code",
   "outputs": [],
   "source": [],
   "metadata": {
    "collapsed": false,
    "ExecuteTime": {
     "end_time": "2024-04-17T09:37:40.631833Z",
     "start_time": "2024-04-17T09:37:40.616631Z"
    }
   },
   "id": "86b94a6b5163f6e1",
   "execution_count": 1
  },
  {
   "cell_type": "markdown",
   "source": [
    "# Sentiment Analysis with Transformers"
   ],
   "metadata": {
    "collapsed": false
   },
   "id": "b54e0d7a3ba4cf6d"
  },
  {
   "cell_type": "code",
   "outputs": [],
   "source": [],
   "metadata": {
    "collapsed": false,
    "ExecuteTime": {
     "end_time": "2024-04-17T09:37:40.693354Z",
     "start_time": "2024-04-17T09:37:40.637184Z"
    }
   },
   "id": "c7872fbe50eba6a1",
   "execution_count": 1
  },
  {
   "cell_type": "markdown",
   "source": [
    "# Fake News detection with Transformers"
   ],
   "metadata": {
    "collapsed": false
   },
   "id": "2cd0abc0d8f80b1"
  },
  {
   "cell_type": "code",
   "outputs": [],
   "source": [],
   "metadata": {
    "collapsed": false,
    "ExecuteTime": {
     "end_time": "2024-04-17T09:37:40.708253Z",
     "start_time": "2024-04-17T09:37:40.683318Z"
    }
   },
   "id": "f9c41f8f1c2ca073",
   "execution_count": 1
  },
  {
   "cell_type": "markdown",
   "source": [
    "# Interpreting Black-Box Transformer Models"
   ],
   "metadata": {
    "collapsed": false
   },
   "id": "81c25944760c212e"
  },
  {
   "cell_type": "code",
   "outputs": [],
   "source": [],
   "metadata": {
    "collapsed": false,
    "ExecuteTime": {
     "end_time": "2024-04-17T09:37:40.740630Z",
     "start_time": "2024-04-17T09:37:40.713516Z"
    }
   },
   "id": "2b0a96a589a2149f",
   "execution_count": 1
  },
  {
   "cell_type": "markdown",
   "source": [
    "# Task Agnostic Transformer Models (non NLP)"
   ],
   "metadata": {
    "collapsed": false
   },
   "id": "83bfda01921e1feb"
  },
  {
   "cell_type": "code",
   "outputs": [],
   "source": [],
   "metadata": {
    "collapsed": false,
    "ExecuteTime": {
     "end_time": "2024-04-17T09:37:40.764102Z",
     "start_time": "2024-04-17T09:37:40.733663Z"
    }
   },
   "id": "81d3fd67d1e2910a",
   "execution_count": 1
  },
  {
   "cell_type": "markdown",
   "source": [
    "# Transformer Models as Copilots"
   ],
   "metadata": {
    "collapsed": false
   },
   "id": "d676fd2b0c888acd"
  },
  {
   "cell_type": "code",
   "outputs": [],
   "source": [],
   "metadata": {
    "collapsed": false,
    "ExecuteTime": {
     "end_time": "2024-04-17T09:37:40.796621Z",
     "start_time": "2024-04-17T09:37:40.769023Z"
    }
   },
   "id": "ea6ff6350982d61f",
   "execution_count": 1
  },
  {
   "cell_type": "markdown",
   "source": [
    "# Summary"
   ],
   "metadata": {
    "collapsed": false
   },
   "id": "f4090c7f4f957069"
  },
  {
   "cell_type": "markdown",
   "source": [
    "# Questions and Answers\n",
    "\n",
    "**Q: What are attention heads in transformer models?**\n",
    "A: Attention heads are the individual parallel pathways through which the model processes information, allowing the model to focus on different parts of the input data, learning different patterns and relationships in parallel.\n",
    "\n",
    "**Q: Why is/was the attention mechanism so important in the development of transformer models?**\n",
    "A: It allows the parallel processing of input data (different attention heads can run on different GPUs), which is more efficient than the sequential processing of RNNs and LSTMs. This parallel processing is what allows transformer models to scale to larger datasets and more complex tasks.\n",
    " \n",
    "Q: Can transformer models only be applied to NLP tasks?\n",
    "A: No, transformer models can be applied to a wide range of tasks, including image recognition, speech recognition, and other tasks that involve processing sequences of data.\n",
    "\n",
    "Q: What is the basic architecture of a transformer architecture?\n",
    "Q: What are foundation models?\n",
    "Q: What are the different components in a standard transformer model?\n",
    "Q: What are some techniques used to train transformer models?\n",
    "Q: What are some techniques used to fine-tune transformer models?\n",
    "Q: What were the steps to pretrain RoBERTa models?\n",
    "Q: How can transformer models be used for machine translation (NLP)?\n",
    "Q: How can transformer models be used for image recognition?\n",
    "Q: Explain the similarities and differences between OpenAI's GPT-2 and GPR-3\n",
    "Q: Explain the concept of T5 transformer model\n",
    "Q: Explain the architecture of T5 transformer model\n",
    "Q: How is the quality of data improved in/for T5 transformer model?\n",
    "Q: Explain how transformer models are able to \"understand\" the context of text.\n",
    "Q: Explain how transformer models are able to \"understand\" long text and display reasoning skills\n",
    "Q: By which methods have transformers improved sentiment analysis?\n",
    "Q: How can transformers be used to understand different perspectives in text?\n",
    "Q: What are some hidden details in transformer models that are not often discussed?\n",
    "Q: What are some properties of advanced transformer models?\n",
    "Q: What are some different transformers for vision tasks?\n",
    "Q: How are vision transformers tested, for example for image generation?\n",
    "  \n",
    "\n"
   ],
   "metadata": {
    "collapsed": false
   },
   "id": "11aa29d3550d4740"
  }
 ],
 "metadata": {
  "kernelspec": {
   "display_name": "Python 3",
   "language": "python",
   "name": "python3"
  },
  "language_info": {
   "codemirror_mode": {
    "name": "ipython",
    "version": 2
   },
   "file_extension": ".py",
   "mimetype": "text/x-python",
   "name": "python",
   "nbconvert_exporter": "python",
   "pygments_lexer": "ipython2",
   "version": "2.7.6"
  }
 },
 "nbformat": 4,
 "nbformat_minor": 5
}
