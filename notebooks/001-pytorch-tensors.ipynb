{
 "cells": [
  {
   "cell_type": "markdown",
   "source": [
    "# PyTorch Basics - Working with Tensors\n",
    "Some exercises to understand the basics of PyTorch working with tensors"
   ],
   "metadata": {
    "collapsed": false
   },
   "id": "aa26a59b7751670"
  },
  {
   "cell_type": "markdown",
   "source": [
    "## Creating differnet kinds of tensors from lists and numpy arrays"
   ],
   "metadata": {
    "collapsed": false
   },
   "id": "fbbbab043f81aa34"
  },
  {
   "cell_type": "code",
   "source": [
    "import torch\n",
    "\n",
    "# Tensors can be created from lists and nested lists:\n",
    "\n",
    "a = torch.tensor([1 ,2, 3]) # 1D tensor\n",
    "b = torch.tensor([[1], [2], [3]]) # 2D tensor\n",
    "\n",
    "print(\"1D tensor A:\", a)\n",
    "print(\"2D tensor B:\", b, \"\\n\")"
   ],
   "metadata": {
    "collapsed": false,
    "ExecuteTime": {
     "end_time": "2024-04-11T21:50:54.239314Z",
     "start_time": "2024-04-11T21:50:54.162575Z"
    }
   },
   "id": "27cbbde8186509c8",
   "outputs": [
    {
     "name": "stdout",
     "output_type": "stream",
     "text": [
      "1D tensor A: tensor([1, 2, 3])\n",
      "2D tensor B: tensor([[1],\n",
      "        [2],\n",
      "        [3]]) \n"
     ]
    }
   ],
   "execution_count": 108
  },
  {
   "cell_type": "code",
   "source": [
    "# inspect the dimension of the tensors\n",
    "print(\"Dimension of tensor A:\", a.dim())\n",
    "print(\"Dimension of tensor B:\", b.dim(), \"\\n\")\n",
    "# inspect the size (==shape) of the tensors\n",
    "print(\"Shape of tensor A:\", a.size())\n",
    "print(\"Shape of tensor B:\", b.shape, \"\\n\")"
   ],
   "metadata": {
    "collapsed": false,
    "ExecuteTime": {
     "end_time": "2024-04-11T21:50:54.241652Z",
     "start_time": "2024-04-11T21:50:54.226857Z"
    }
   },
   "id": "a76b85d66fe1d604",
   "outputs": [
    {
     "name": "stdout",
     "output_type": "stream",
     "text": [
      "Dimension of tensor A: 1\n",
      "Dimension of tensor B: 2 \n",
      "\n",
      "Shape of tensor A: torch.Size([3])\n",
      "Shape of tensor B: torch.Size([3, 1]) \n"
     ]
    }
   ],
   "execution_count": 109
  },
  {
   "cell_type": "markdown",
   "source": "Note: mytensor.dim() returns len(mytensor.shape) whereas mytensor.shape tells us the number of elements in each dimension",
   "metadata": {
    "collapsed": false
   },
   "id": "f601277ae6383d96"
  },
  {
   "cell_type": "code",
   "source": [
    "\n",
    "# inspect the data type of the tensors\n",
    "print(\"Data type of tensor A:\", a.dtype)\n",
    "print(\"Data type of tensor B:\", b.dtype, \"\\n\")"
   ],
   "metadata": {
    "collapsed": false,
    "ExecuteTime": {
     "end_time": "2024-04-11T21:50:54.257123Z",
     "start_time": "2024-04-11T21:50:54.237060Z"
    }
   },
   "id": "f4b3bfef79126708",
   "outputs": [
    {
     "name": "stdout",
     "output_type": "stream",
     "text": [
      "Data type of tensor A: torch.int64\n",
      "Data type of tensor B: torch.int64 \n"
     ]
    }
   ],
   "execution_count": 110
  },
  {
   "cell_type": "code",
   "source": [
    "# Tensors can also be created from NumPy arrays\n",
    "import numpy as np\n",
    "\n",
    "my_np_array = np.array([1, 2, 3])\n",
    "a = torch.tensor(my_np_array) # pass the np array into the tensor function\n",
    "b = torch.from_numpy(my_np_array) # or use the from_numpy function, the result is the same\n",
    "print(\"1D tensor A from numpy array:\", a)\n",
    "print(\"1D tensor B from numpy array:\", b)"
   ],
   "metadata": {
    "collapsed": false,
    "ExecuteTime": {
     "end_time": "2024-04-11T21:50:54.327631Z",
     "start_time": "2024-04-11T21:50:54.256945Z"
    }
   },
   "id": "8a2d752a65840dd7",
   "outputs": [
    {
     "name": "stdout",
     "output_type": "stream",
     "text": [
      "1D tensor A from numpy array: tensor([1, 2, 3])\n",
      "1D tensor B from numpy array: tensor([1, 2, 3])\n"
     ]
    }
   ],
   "execution_count": 111
  },
  {
   "cell_type": "markdown",
   "source": [
    "### Creating special tensors"
   ],
   "metadata": {
    "collapsed": false
   },
   "id": "3f70c77b66e67d53"
  },
  {
   "cell_type": "code",
   "source": [
    "# creates a 2-dimensional tensor, a 5x5 identity matrix (ones on the diagonal, zeros elsewhere)\n",
    "identity_tensor = torch.eye(5)\n",
    "identity_tensor"
   ],
   "metadata": {
    "collapsed": false,
    "ExecuteTime": {
     "end_time": "2024-04-11T21:50:54.419950Z",
     "start_time": "2024-04-11T21:50:54.275242Z"
    }
   },
   "id": "329b97ae9643f2f0",
   "outputs": [
    {
     "data": {
      "text/plain": "tensor([[1., 0., 0., 0., 0.],\n        [0., 1., 0., 0., 0.],\n        [0., 0., 1., 0., 0.],\n        [0., 0., 0., 1., 0.],\n        [0., 0., 0., 0., 1.]])"
     },
     "execution_count": 112,
     "metadata": {},
     "output_type": "execute_result"
    }
   ],
   "execution_count": 112
  },
  {
   "cell_type": "code",
   "source": [
    "zero_tensor = torch.zeros(3, 10) # creates a 2-dimensional tensor, a 3x10 matrix filled with zeros\n",
    "zero_tensor"
   ],
   "metadata": {
    "collapsed": false,
    "ExecuteTime": {
     "end_time": "2024-04-11T21:50:54.431395Z",
     "start_time": "2024-04-11T21:50:54.341684Z"
    }
   },
   "id": "2365ece098efc413",
   "outputs": [
    {
     "data": {
      "text/plain": "tensor([[0., 0., 0., 0., 0., 0., 0., 0., 0., 0.],\n        [0., 0., 0., 0., 0., 0., 0., 0., 0., 0.],\n        [0., 0., 0., 0., 0., 0., 0., 0., 0., 0.]])"
     },
     "execution_count": 113,
     "metadata": {},
     "output_type": "execute_result"
    }
   ],
   "execution_count": 113
  },
  {
   "cell_type": "code",
   "source": [
    "ones_tensor = torch.ones(5, 2) # creates a 2-dimensional tensor, a 5x2 matrix filled with ones\n",
    "ones_tensor"
   ],
   "metadata": {
    "collapsed": false,
    "ExecuteTime": {
     "end_time": "2024-04-11T21:50:54.435851Z",
     "start_time": "2024-04-11T21:50:54.358423Z"
    }
   },
   "id": "2f8a8616023e2dd4",
   "outputs": [
    {
     "data": {
      "text/plain": "tensor([[1., 1.],\n        [1., 1.],\n        [1., 1.],\n        [1., 1.],\n        [1., 1.]])"
     },
     "execution_count": 114,
     "metadata": {},
     "output_type": "execute_result"
    }
   ],
   "execution_count": 114
  },
  {
   "cell_type": "markdown",
   "source": [
    "Note: with any of the above functions, you can specify multiple parameters to create tensors of higher dimensions (in the examples we only created 2D tensors)"
   ],
   "metadata": {
    "collapsed": false
   },
   "id": "226e4a6cfddc8c0b"
  },
  {
   "cell_type": "code",
   "source": [
    "random_tensor = torch.rand(2, 2, 3) # creates a 2-dimensional tensor, a 3x4 matrix filled with random numbers between 0 and 1\n",
    "random_tensor"
   ],
   "metadata": {
    "collapsed": false,
    "ExecuteTime": {
     "end_time": "2024-04-11T21:50:54.546530Z",
     "start_time": "2024-04-11T21:50:54.373949Z"
    }
   },
   "id": "bac84fb0bbb10c7c",
   "outputs": [
    {
     "data": {
      "text/plain": "tensor([[[0.5503, 0.0195, 0.9681],\n         [0.5661, 0.6106, 0.5195]],\n\n        [[0.7210, 0.1849, 0.1553],\n         [0.3442, 0.0896, 0.4959]]])"
     },
     "execution_count": 115,
     "metadata": {},
     "output_type": "execute_result"
    }
   ],
   "execution_count": 115
  },
  {
   "cell_type": "code",
   "source": [
    "random_normal_tensor = torch.randn(20) # creates a 1-dimensional tensor, a 20-element vector filled with random numbers from a normal distribution\n",
    "random_normal_tensor"
   ],
   "metadata": {
    "collapsed": false,
    "ExecuteTime": {
     "end_time": "2024-04-11T21:50:54.548675Z",
     "start_time": "2024-04-11T21:50:54.392699Z"
    }
   },
   "id": "ba05d7d470e386ba",
   "outputs": [
    {
     "data": {
      "text/plain": "tensor([ 0.4977, -0.1494, -1.1621,  0.5520, -0.8003, -0.6251, -0.2243, -0.3144,\n         0.1240, -0.7619,  0.1678, -1.1305, -0.8303,  0.9611,  1.7411,  1.4667,\n         1.5596,  0.3986,  1.2847,  1.0947])"
     },
     "execution_count": 116,
     "metadata": {},
     "output_type": "execute_result"
    }
   ],
   "execution_count": 116
  },
  {
   "cell_type": "markdown",
   "source": [
    "Reminder: Normal distribution means that the mean is 0 and the variance is 1"
   ],
   "metadata": {
    "collapsed": false
   },
   "id": "fb51294d1344527a"
  },
  {
   "cell_type": "code",
   "source": [
    "# we can also create a tensor filled with random integers\n",
    "random_int_tensor = torch.randint(low=5, high=10, size=(5, 5)) # creates a 2-dimensional tensor, a 5x5 matrix filled with random integers between 0 and 10\n",
    "random_int_tensor"
   ],
   "metadata": {
    "collapsed": false,
    "ExecuteTime": {
     "end_time": "2024-04-11T21:50:54.550317Z",
     "start_time": "2024-04-11T21:50:54.410800Z"
    }
   },
   "id": "488a63bddd00ac8b",
   "outputs": [
    {
     "data": {
      "text/plain": "tensor([[7, 7, 6, 9, 7],\n        [6, 9, 9, 6, 5],\n        [5, 7, 6, 9, 6],\n        [9, 5, 7, 5, 9],\n        [9, 7, 6, 5, 5]])"
     },
     "execution_count": 117,
     "metadata": {},
     "output_type": "execute_result"
    }
   ],
   "execution_count": 117
  },
  {
   "cell_type": "code",
   "source": [
    "# pytorch also allows to create a tensor filled with a range of numbers\n",
    "range_tensor = torch.arange(3, 17) # creates a 1-dimensional tensor, a 14-element vector filled with numbers from 3 to 16\n",
    "range_tensor"
   ],
   "metadata": {
    "collapsed": false,
    "ExecuteTime": {
     "end_time": "2024-04-11T21:50:54.560495Z",
     "start_time": "2024-04-11T21:50:54.428486Z"
    }
   },
   "id": "6a4efc8781c28a57",
   "outputs": [
    {
     "data": {
      "text/plain": "tensor([ 3,  4,  5,  6,  7,  8,  9, 10, 11, 12, 13, 14, 15, 16])"
     },
     "execution_count": 118,
     "metadata": {},
     "output_type": "execute_result"
    }
   ],
   "execution_count": 118
  },
  {
   "cell_type": "markdown",
   "source": [
    "## Working with tensor metadata\n",
    "\n",
    "We alredy learned about .dim() .shape and .dtype. Here are some more useful tensor attributes:"
   ],
   "metadata": {
    "collapsed": false
   },
   "id": "5703b4ac2b238ede"
  },
  {
   "metadata": {
    "ExecuteTime": {
     "end_time": "2024-04-11T21:50:54.561433Z",
     "start_time": "2024-04-11T21:50:54.446094Z"
    }
   },
   "cell_type": "code",
   "source": [
    "my_tensor = torch.tensor([[1, 2, 3], [4, 5, 6], [7, 8, 9]])\n",
    "print(my_tensor.numel()) # returns the number of elements in the tensor\n",
    "print(my_tensor.nelement())"
   ],
   "id": "8a67835fe5ae24a1",
   "outputs": [
    {
     "name": "stdout",
     "output_type": "stream",
     "text": [
      "9\n",
      "9\n"
     ]
    }
   ],
   "execution_count": 119
  },
  {
   "metadata": {
    "ExecuteTime": {
     "end_time": "2024-04-11T21:50:54.644243Z",
     "start_time": "2024-04-11T21:50:54.462842Z"
    }
   },
   "cell_type": "code",
   "outputs": [
    {
     "data": {
      "text/plain": "False"
     },
     "execution_count": 120,
     "metadata": {},
     "output_type": "execute_result"
    }
   ],
   "execution_count": 120,
   "source": [
    "# Check if cuda is enabled\n",
    "my_tensor.is_cuda # returns true if the tensor is stored on the GPU"
   ],
   "id": "33a82c7bf4e4f65c"
  },
  {
   "metadata": {
    "ExecuteTime": {
     "end_time": "2024-04-11T21:50:54.647389Z",
     "start_time": "2024-04-11T21:50:54.478884Z"
    }
   },
   "cell_type": "code",
   "source": [
    "# Get the device on which the tensor is stored on (you could have multiple GPUs)\n",
    "my_tensor.device"
   ],
   "id": "78b2ffadd6da5b06",
   "outputs": [
    {
     "data": {
      "text/plain": "device(type='cpu')"
     },
     "execution_count": 121,
     "metadata": {},
     "output_type": "execute_result"
    }
   ],
   "execution_count": 121
  },
  {
   "metadata": {},
   "cell_type": "markdown",
   "source": [
    "# Tensor Types and Casting\n",
    "\n",
    "PyTorch defines its own data type, which can be used to create tensors. The default data type is float32. You can change the data type of the tensor using the .to() method. \n",
    "\n",
    "\n",
    "| Data Type                | dtype                       | CPU tensor       | GPU tensor              |\n",
    "|--------------------------|-----------------------------|------------------|-------------------------|\n",
    "| 32-bit floating point    | torch.float32/torch.float   | torch.FloatTensor| torch.cuda.FloatTensor  |\n",
    "| 64-bit floating point    | torch.float64/torch.double  | torch.DoubleTensor| torch.cuda.DoubleTensor|\n",
    "| 8-bit integer (signed)   | torch.int16                 | torch.ShortTensor| torch.cuda.ShortTensor  |\n",
    "| boolean                  | torch.bool                  | torch.BoolTensor | torch.cuda.BoolTensor   |\n",
    "\n",
    "\n"
   ],
   "id": "3607fd9fbd80f0d1"
  },
  {
   "metadata": {
    "ExecuteTime": {
     "end_time": "2024-04-11T21:50:54.648593Z",
     "start_time": "2024-04-11T21:50:54.493986Z"
    }
   },
   "cell_type": "code",
   "source": [
    "my_tensor = torch.tensor([1, 1, 1, 1])\n",
    "print(\"The dtype of my_tensor is {}\".format(my_tensor.dtype))\n",
    "\n",
    "my_tensor = torch.tensor([1, 2, 3, 4], dtype=torch.float)\n",
    "print(\"The dtype of my_tensor is {}\".format(my_tensor.dtype))"
   ],
   "id": "f8a81d53456fce2d",
   "outputs": [
    {
     "name": "stdout",
     "output_type": "stream",
     "text": [
      "The dtype of my_tensor is torch.int64\n",
      "The dtype of my_tensor is torch.float32\n"
     ]
    }
   ],
   "execution_count": 122
  },
  {
   "metadata": {
    "ExecuteTime": {
     "end_time": "2024-04-11T21:50:54.662323Z",
     "start_time": "2024-04-11T21:50:54.507285Z"
    }
   },
   "cell_type": "code",
   "outputs": [],
   "execution_count": 122,
   "source": "",
   "id": "2c819908912709df"
  }
 ],
 "metadata": {
  "kernelspec": {
   "display_name": "Python 3",
   "language": "python",
   "name": "python3"
  },
  "language_info": {
   "codemirror_mode": {
    "name": "ipython",
    "version": 2
   },
   "file_extension": ".py",
   "mimetype": "text/x-python",
   "name": "python",
   "nbconvert_exporter": "python",
   "pygments_lexer": "ipython2",
   "version": "2.7.6"
  }
 },
 "nbformat": 4,
 "nbformat_minor": 5
}
