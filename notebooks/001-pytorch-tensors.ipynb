{
 "cells": [
  {
   "cell_type": "markdown",
   "source": [
    "# PyTorch Basics - Working with Tensors\n",
    "Some exercises to understand the basics of PyTorch working with tensors"
   ],
   "metadata": {
    "collapsed": false
   },
   "id": "aa26a59b7751670"
  },
  {
   "cell_type": "markdown",
   "source": [
    "## Creating differnet kinds of tensors from lists and numpy arrays"
   ],
   "metadata": {
    "collapsed": false
   },
   "id": "fbbbab043f81aa34"
  },
  {
   "cell_type": "code",
   "outputs": [
    {
     "name": "stdout",
     "output_type": "stream",
     "text": [
      "1D tensor A: tensor([1, 2, 3])\n",
      "2D tensor B: tensor([[1],\n",
      "        [2],\n",
      "        [3]]) \n"
     ]
    }
   ],
   "source": [
    "import torch\n",
    "\n",
    "# Tensors can be created from lists and nested lists:\n",
    "\n",
    "a = torch.tensor([1 ,2, 3]) # 1D tensor\n",
    "b = torch.tensor([[1], [2], [3]]) # 2D tensor\n",
    "\n",
    "print(\"1D tensor A:\", a)\n",
    "print(\"2D tensor B:\", b, \"\\n\")"
   ],
   "metadata": {
    "collapsed": false,
    "ExecuteTime": {
     "end_time": "2024-04-10T21:57:24.261915Z",
     "start_time": "2024-04-10T21:57:24.243012Z"
    }
   },
   "id": "27cbbde8186509c8",
   "execution_count": 94
  },
  {
   "cell_type": "code",
   "outputs": [
    {
     "name": "stdout",
     "output_type": "stream",
     "text": [
      "Dimension of tensor A: 1\n",
      "Dimension of tensor B: 1 \n",
      "\n",
      "Shape of tensor A: torch.Size([3])\n",
      "Shape of tensor B: torch.Size([3]) \n"
     ]
    }
   ],
   "source": [
    "# inspect the dimension of the tensors\n",
    "print(\"Dimension of tensor A:\", a.dim())\n",
    "print(\"Dimension of tensor B:\", b.dim(), \"\\n\")\n",
    "# inspect the size (==shape) of the tensors\n",
    "print(\"Shape of tensor A:\", a.size())\n",
    "print(\"Shape of tensor B:\", b.shape, \"\\n\")"
   ],
   "metadata": {
    "collapsed": false,
    "ExecuteTime": {
     "end_time": "2024-04-10T22:20:05.675657Z",
     "start_time": "2024-04-10T22:20:05.650861Z"
    }
   },
   "id": "a76b85d66fe1d604",
   "execution_count": 106
  },
  {
   "cell_type": "markdown",
   "source": [
    "Note: mytensor.dim() returns len(mytensor.shape) whereas mytensor.shape tells us the number of elements in each dimension"
   ],
   "metadata": {
    "collapsed": false
   },
   "id": "f601277ae6383d96"
  },
  {
   "cell_type": "code",
   "outputs": [
    {
     "name": "stdout",
     "output_type": "stream",
     "text": [
      "Data type of tensor A: torch.int64\n",
      "Data type of tensor B: torch.int64 \n"
     ]
    }
   ],
   "source": [
    "\n",
    "# inspect the data type of the tensors\n",
    "print(\"Data type of tensor A:\", a.dtype)\n",
    "print(\"Data type of tensor B:\", b.dtype, \"\\n\")"
   ],
   "metadata": {
    "collapsed": false,
    "ExecuteTime": {
     "end_time": "2024-04-10T21:57:24.353801Z",
     "start_time": "2024-04-10T21:57:24.287617Z"
    }
   },
   "id": "f4b3bfef79126708",
   "execution_count": 96
  },
  {
   "cell_type": "code",
   "outputs": [
    {
     "name": "stdout",
     "output_type": "stream",
     "text": [
      "1D tensor A from numpy array: tensor([1, 2, 3])\n",
      "1D tensor B from numpy array: tensor([1, 2, 3])\n"
     ]
    }
   ],
   "source": [
    "# Tensors can also be created from NumPy arrays\n",
    "import numpy as np\n",
    "\n",
    "my_np_array = np.array([1, 2, 3])\n",
    "a = torch.tensor(my_np_array) # pass the np array into the tensor function\n",
    "b = torch.from_numpy(my_np_array) # or use the from_numpy function, the result is the same\n",
    "print(\"1D tensor A from numpy array:\", a)\n",
    "print(\"1D tensor B from numpy array:\", b)"
   ],
   "metadata": {
    "collapsed": false,
    "ExecuteTime": {
     "end_time": "2024-04-10T21:57:24.442446Z",
     "start_time": "2024-04-10T21:57:24.359507Z"
    }
   },
   "id": "8a2d752a65840dd7",
   "execution_count": 97
  },
  {
   "cell_type": "markdown",
   "source": [
    "### Creating special tensors"
   ],
   "metadata": {
    "collapsed": false
   },
   "id": "3f70c77b66e67d53"
  },
  {
   "cell_type": "code",
   "outputs": [
    {
     "data": {
      "text/plain": "tensor([[1., 0., 0., 0., 0.],\n        [0., 1., 0., 0., 0.],\n        [0., 0., 1., 0., 0.],\n        [0., 0., 0., 1., 0.],\n        [0., 0., 0., 0., 1.]])"
     },
     "execution_count": 98,
     "metadata": {},
     "output_type": "execute_result"
    }
   ],
   "source": [
    "# creates a 2-dimensional tensor, a 5x5 identity matrix (ones on the diagonal, zeros elsewhere)\n",
    "identity_tensor = torch.eye(5)\n",
    "identity_tensor"
   ],
   "metadata": {
    "collapsed": false,
    "ExecuteTime": {
     "end_time": "2024-04-10T21:57:24.474474Z",
     "start_time": "2024-04-10T21:57:24.427679Z"
    }
   },
   "id": "329b97ae9643f2f0",
   "execution_count": 98
  },
  {
   "cell_type": "code",
   "outputs": [
    {
     "data": {
      "text/plain": "tensor([[0., 0., 0., 0., 0., 0., 0., 0., 0., 0.],\n        [0., 0., 0., 0., 0., 0., 0., 0., 0., 0.],\n        [0., 0., 0., 0., 0., 0., 0., 0., 0., 0.]])"
     },
     "execution_count": 99,
     "metadata": {},
     "output_type": "execute_result"
    }
   ],
   "source": [
    "zero_tensor = torch.zeros(3, 10) # creates a 2-dimensional tensor, a 3x10 matrix filled with zeros\n",
    "zero_tensor"
   ],
   "metadata": {
    "collapsed": false,
    "ExecuteTime": {
     "end_time": "2024-04-10T21:57:24.588720Z",
     "start_time": "2024-04-10T21:57:24.480977Z"
    }
   },
   "id": "2365ece098efc413",
   "execution_count": 99
  },
  {
   "cell_type": "code",
   "outputs": [
    {
     "data": {
      "text/plain": "tensor([[1., 1.],\n        [1., 1.],\n        [1., 1.],\n        [1., 1.],\n        [1., 1.]])"
     },
     "execution_count": 100,
     "metadata": {},
     "output_type": "execute_result"
    }
   ],
   "source": [
    "ones_tensor = torch.ones(5, 2) # creates a 2-dimensional tensor, a 5x2 matrix filled with ones\n",
    "ones_tensor"
   ],
   "metadata": {
    "collapsed": false,
    "ExecuteTime": {
     "end_time": "2024-04-10T21:57:24.646197Z",
     "start_time": "2024-04-10T21:57:24.556812Z"
    }
   },
   "id": "2f8a8616023e2dd4",
   "execution_count": 100
  },
  {
   "cell_type": "markdown",
   "source": [
    "Note: with any of the above functions, you can specify multiple parameters to create tensors of higher dimensions (in the examples we only created 2D tensors)"
   ],
   "metadata": {
    "collapsed": false
   },
   "id": "226e4a6cfddc8c0b"
  },
  {
   "cell_type": "code",
   "outputs": [
    {
     "data": {
      "text/plain": "tensor([[[0.4120, 0.4695, 0.2777],\n         [0.6588, 0.2601, 0.2044]],\n\n        [[0.7590, 0.7228, 0.6877],\n         [0.0785, 0.3292, 0.8320]]])"
     },
     "execution_count": 101,
     "metadata": {},
     "output_type": "execute_result"
    }
   ],
   "source": [
    "random_tensor = torch.rand(2, 2, 3) # creates a 2-dimensional tensor, a 3x4 matrix filled with random numbers between 0 and 1\n",
    "random_tensor"
   ],
   "metadata": {
    "collapsed": false,
    "ExecuteTime": {
     "end_time": "2024-04-10T21:57:24.677117Z",
     "start_time": "2024-04-10T21:57:24.638494Z"
    }
   },
   "id": "bac84fb0bbb10c7c",
   "execution_count": 101
  },
  {
   "cell_type": "code",
   "outputs": [
    {
     "data": {
      "text/plain": "tensor([ 0.9751, -0.0278, -0.4456,  0.1092,  1.2324,  0.6154, -1.1602,  1.4630,\n         0.6622,  0.4169, -0.8514,  1.7354, -0.8758,  0.9820,  0.4704, -1.0366,\n         0.7723,  1.8027, -1.0541,  1.9997])"
     },
     "execution_count": 102,
     "metadata": {},
     "output_type": "execute_result"
    }
   ],
   "source": [
    "random_normal_tensor = torch.randn(20) # creates a 1-dimensional tensor, a 20-element vector filled with random numbers from a normal distribution\n",
    "random_normal_tensor"
   ],
   "metadata": {
    "collapsed": false,
    "ExecuteTime": {
     "end_time": "2024-04-10T21:57:24.748343Z",
     "start_time": "2024-04-10T21:57:24.683695Z"
    }
   },
   "id": "ba05d7d470e386ba",
   "execution_count": 102
  },
  {
   "cell_type": "markdown",
   "source": [
    "Reminder: Normal distribution means that the mean is 0 and the variance is 1"
   ],
   "metadata": {
    "collapsed": false
   },
   "id": "fb51294d1344527a"
  },
  {
   "cell_type": "code",
   "outputs": [
    {
     "data": {
      "text/plain": "tensor([[7, 9, 7, 7, 7],\n        [9, 7, 7, 6, 6],\n        [9, 9, 9, 6, 6],\n        [6, 8, 7, 8, 5],\n        [7, 8, 5, 9, 5]])"
     },
     "execution_count": 103,
     "metadata": {},
     "output_type": "execute_result"
    }
   ],
   "source": [
    "# we can also create a tensor filled with random integers\n",
    "random_int_tensor = torch.randint(low=5, high=10, size=(5, 5)) # creates a 2-dimensional tensor, a 5x5 matrix filled with random integers between 0 and 10\n",
    "random_int_tensor"
   ],
   "metadata": {
    "collapsed": false,
    "ExecuteTime": {
     "end_time": "2024-04-10T21:57:24.796552Z",
     "start_time": "2024-04-10T21:57:24.739611Z"
    }
   },
   "id": "488a63bddd00ac8b",
   "execution_count": 103
  },
  {
   "cell_type": "code",
   "outputs": [
    {
     "data": {
      "text/plain": "tensor([ 3,  4,  5,  6,  7,  8,  9, 10, 11, 12, 13, 14, 15, 16])"
     },
     "execution_count": 104,
     "metadata": {},
     "output_type": "execute_result"
    }
   ],
   "source": [
    "# pytorch also allows to create a tensor filled with a range of numbers\n",
    "range_tensor = torch.arange(3, 17) # creates a 1-dimensional tensor, a 14-element vector filled with numbers from 3 to 16\n",
    "range_tensor"
   ],
   "metadata": {
    "collapsed": false,
    "ExecuteTime": {
     "end_time": "2024-04-10T21:57:24.837327Z",
     "start_time": "2024-04-10T21:57:24.801363Z"
    }
   },
   "id": "6a4efc8781c28a57",
   "execution_count": 104
  },
  {
   "cell_type": "markdown",
   "source": [],
   "metadata": {
    "collapsed": false
   },
   "id": "5703b4ac2b238ede"
  }
 ],
 "metadata": {
  "kernelspec": {
   "display_name": "Python 3",
   "language": "python",
   "name": "python3"
  },
  "language_info": {
   "codemirror_mode": {
    "name": "ipython",
    "version": 2
   },
   "file_extension": ".py",
   "mimetype": "text/x-python",
   "name": "python",
   "nbconvert_exporter": "python",
   "pygments_lexer": "ipython2",
   "version": "2.7.6"
  }
 },
 "nbformat": 4,
 "nbformat_minor": 5
}
