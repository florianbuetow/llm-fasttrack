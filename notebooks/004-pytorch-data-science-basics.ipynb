{
 "cells": [
  {
   "cell_type": "markdown",
   "source": [
    "# Just a Practice Notebook for Random Data Science Stuff"
   ],
   "metadata": {
    "collapsed": false
   },
   "id": "c588e4c43c6722f6"
  },
  {
   "cell_type": "code",
   "outputs": [],
   "source": [
    "import torch"
   ],
   "metadata": {
    "collapsed": false,
    "ExecuteTime": {
     "end_time": "2024-05-02T04:51:52.850219Z",
     "start_time": "2024-05-02T04:51:52.822911Z"
    }
   },
   "id": "37eb559dc41a1498",
   "execution_count": 6
  },
  {
   "cell_type": "code",
   "outputs": [
    {
     "name": "stdout",
     "output_type": "stream",
     "text": [
      "X=tensor([1., 3., 4., 5.])\n",
      "Y=tensor([7., 6., 3., 1.])\n",
      "2-Norm of X: 7.141428470611572\n",
      "2-Norm of Y: 9.746794700622559\n",
      "\n",
      "Euclidean Distance: 7.874007701873779\n",
      "Manhattan Distance: 14.0\n",
      "Cosine Similarity: 0.6033958792686462\n",
      "Jaccard Similarity: 0.5\n"
     ]
    }
   ],
   "source": [
    "class Metrics():\n",
    "    def euclidean_distance(self, X, Y):\n",
    "        Z = X - Y\n",
    "        return torch.sqrt(torch.dot(Z, Z))\n",
    "         \n",
    "    def manhattan_distance(self, X, Y):\n",
    "        return torch.sum(torch.abs(X - Y))\n",
    "\n",
    "    def cosine_similarity(self, X, Y):\n",
    "        return torch.dot(X, Y) / (self.two_norm(X) * self.two_norm(Y))\n",
    "        # or even simpler with: \n",
    "        # return torch.cosine_similarity(X, Y, dim=0) \n",
    "\n",
    "    def jaccard_similarity(self, X, Y):                \n",
    "        XandY = set([e for e in X + Y])\n",
    "        XorY = set([e for e in X if e in Y])\n",
    "        return len(XorY) / len(XandY)\n",
    "        \n",
    "    def two_norm(self, X):\n",
    "        return sum(xi ** 2 for xi in X) ** 0.5\n",
    "\n",
    "X = torch.tensor([1, 3, 4, 5], dtype=torch.float32)\n",
    "Y = torch.tensor([7, 6, 3, 1], dtype=torch.float32)\n",
    "\n",
    "print(\"X={}\".format(X))\n",
    "print(\"Y={}\".format(Y))\n",
    "\n",
    "metrics = Metrics()\n",
    "print(\"2-Norm of X: {}\".format(metrics.two_norm(X)))\n",
    "print(\"2-Norm of Y: {}\".format(metrics.two_norm(Y)))\n",
    "print()\n",
    "print(\"Euclidean Distance: {}\".format(metrics.euclidean_distance(X,Y)))\n",
    "print(\"Manhattan Distance: {}\".format(metrics.manhattan_distance(X,Y)))\n",
    "print(\"Cosine Similarity: {}\".format(metrics.cosine_similarity(X,Y)))\n",
    "print(\"Jaccard Similarity: {}\".format(metrics.jaccard_similarity(X,Y)))"
   ],
   "metadata": {
    "collapsed": false,
    "ExecuteTime": {
     "end_time": "2024-05-02T04:51:52.905333Z",
     "start_time": "2024-05-02T04:51:52.864505Z"
    }
   },
   "id": "2fb9189a944a783e",
   "execution_count": 7
  },
  {
   "cell_type": "markdown",
   "source": [
    "## Implementing KNN search and predict a binary label using KNN search"
   ],
   "metadata": {
    "collapsed": false
   },
   "id": "f4f4b2866fc60010"
  },
  {
   "cell_type": "code",
   "outputs": [
    {
     "name": "stdout",
     "output_type": "stream",
     "text": [
      "The 3-NN of tensor([1., 3., 4., 5.]) are: ['id-1', 'id-3', 'id-6']\n",
      "The 1-NN of tensor([1., 3., 4., 5.]) is: ['id-1']\n",
      "The 2-NN of tensor([7., 6., 3., 1.]) are: ['id-2', 'id-5']\n",
      "\n",
      "The predicted label of tensor([1., 3., 4., 5.]) (with k=1) is: 1\n",
      "The predicted label of tensor([1., 3., 4., 5.]) (with k=4) is: 0\n",
      "The predicted label of tensor([7., 6., 3., 1.]) (with k=1) is: 0\n",
      "The predicted label of tensor([7., 6., 3., 1.]) (with k=4) is: 1\n"
     ]
    }
   ],
   "source": [
    "from heapq import heappush, heappop\n",
    "\n",
    "class KnnSearch:\n",
    "    \n",
    "    def predict_label(self, samples, query_vector, k, label_key=\"label\"):\n",
    "        knn = self.find_k_nearest_neighbors(samples, query_vector, k)\n",
    "        # Compute the average (binary) label of the KNN \n",
    "        return round(sum(samples[entry][label_key] for entry in knn) / len(knn))\n",
    "    \n",
    "    def find_k_nearest_neighbors(self, samples, query_vector, k):\n",
    "        # O(n log k) time and O(k) space, n = len(samples)\n",
    "        k_nearest = []\n",
    "        for sample_id, sample in samples.items():\n",
    "            d = self.l2_norm(sample['vector'], query_vector)\n",
    "            e = [-d, sample_id]\n",
    "            heappush(k_nearest, e)\n",
    "            while len(k_nearest) > k:\n",
    "                heappop(k_nearest)\n",
    "        result = []\n",
    "        while k_nearest:\n",
    "            _, sample = heappop(k_nearest)\n",
    "            result.append(sample)\n",
    "        result.reverse()\n",
    "        return result\n",
    "    \n",
    "    def l2_norm(self, vector_u , vector_v):\n",
    "        return torch.linalg.norm(vector_u - vector_v).item() # use .item() to get the value out of a 1-element + 1d-tensor\n",
    "    \n",
    "knn = KnnSearch()\n",
    "samples = {\n",
    "    'id-1': {'vector': torch.tensor([1, 3, 4, 5], dtype=torch.float32), 'label': 1},\n",
    "    'id-2': {'vector': torch.tensor([7, 6, 3, 1], dtype=torch.float32), 'label': 0},\n",
    "    'id-3': {'vector': torch.tensor([2, 3, 4, 5], dtype=torch.float32), 'label': 1},\n",
    "    'id-4': {'vector': torch.tensor([1, 3, 9, 5], dtype=torch.float32), 'label': 0},\n",
    "    'id-5': {'vector': torch.tensor([7, 2, 3, 1], dtype=torch.float32), 'label': 1},\n",
    "    'id-6': {'vector': torch.tensor([2, 3, 4, 8], dtype=torch.float32), 'label': 0},    \n",
    "}\n",
    "\n",
    "# And lets do some basic testing\n",
    "k, query = 3, torch.tensor([1, 3, 4, 5], dtype=torch.float32)\n",
    "print(\"The {}-NN of {} are:\".format(k, query), knn.find_k_nearest_neighbors(samples, query, k))\n",
    "\n",
    "k, query = 1, samples['id-1']['vector']\n",
    "print(\"The {}-NN of {} is:\".format(k, query), knn.find_k_nearest_neighbors(samples, query, k))\n",
    "\n",
    "k, query = 2, samples['id-2']['vector']\n",
    "print(\"The {}-NN of {} are:\".format(k, query), knn.find_k_nearest_neighbors(samples, query, k))\n",
    "\n",
    "print()\n",
    "\n",
    "k, query = 1, samples['id-1']['vector']\n",
    "print(\"The predicted label of {} (with k={}) is:\".format(query, k), knn.predict_label(samples, query, k))\n",
    "\n",
    "k, query = 4, samples['id-1']['vector']\n",
    "print(\"The predicted label of {} (with k={}) is:\".format(query, k), knn.predict_label(samples, query, k))\n",
    "\n",
    "k, query = 1, samples['id-2']['vector']\n",
    "print(\"The predicted label of {} (with k={}) is:\".format(query, k), knn.predict_label(samples, query, k))\n",
    "\n",
    "k, query = 4, samples['id-2']['vector']\n",
    "print(\"The predicted label of {} (with k={}) is:\".format(query, k), knn.predict_label(samples, query, k))\n"
   ],
   "metadata": {
    "collapsed": false,
    "ExecuteTime": {
     "end_time": "2024-05-02T04:51:52.917553Z",
     "start_time": "2024-05-02T04:51:52.892524Z"
    }
   },
   "id": "fb65c9c6f833eb1e",
   "execution_count": 8
  },
  {
   "cell_type": "markdown",
   "source": [
    "## Implementing KMeans Clustering"
   ],
   "metadata": {
    "collapsed": false
   },
   "id": "15f470bbedcdc96f"
  },
  {
   "cell_type": "code",
   "outputs": [
    {
     "name": "stdout",
     "output_type": "stream",
     "text": [
      "Centroids for k=1: (tensor([[3.3333, 4.3333]]), 1)\n",
      "Centroids for k=2: (tensor([[7.0000, 3.5000],\n",
      "        [1.5000, 4.7500]]), 2)\n",
      "Centroids for k=3: (tensor([[0.0000, 0.0000],\n",
      "        [0.0000, 0.0000],\n",
      "        [3.3333, 4.3333]]), 1)\n"
     ]
    }
   ],
   "source": [
    "class KMeans:\n",
    "    \n",
    "    def assign_clusters(self, datapoints, centroids):\n",
    "        # Compute the distance between each datapoint and each centroid\n",
    "        distances = torch.cdist(datapoints, centroids) # O(n * k * d)\n",
    "        # Assign each datapoint to the cluster with the nearest centroid\n",
    "        return torch.argmin(distances, dim=1)\n",
    "    \n",
    "    def find_centroids(self, datapoints, num_clusters, max_iterations=100):\n",
    "        features = datapoints.shape[1]    \n",
    "        # Initialize the centroids randomly\n",
    "        centroids = torch.randn(num_clusters, features)  \n",
    "        for num_iterations in range(max_iterations):\n",
    "            # Assign each datapoint to the nearest cluster\n",
    "            clusters = self.assign_clusters(datapoints, centroids)\n",
    "            # Update the cluster centers\n",
    "            new_centroids = torch.zeros_like(centroids)\n",
    "            for i in range(num_clusters):\n",
    "                cluster_points = datapoints[clusters == i]\n",
    "                if len(cluster_points) > 0:\n",
    "                    new_centroids[i] = cluster_points.mean(dim=0)\n",
    "            # Check if the cluster centers have converged\n",
    "            if torch.all(new_centroids == centroids):\n",
    "                break\n",
    "            centroids = new_centroids\n",
    "        return centroids, num_iterations\n",
    "\n",
    "# Lets test the KMeans implementation with a simple dataset        \n",
    "dataset = torch.tensor([\n",
    "    [1, 3], [7, 6], [2, 3], [1, 9], [7, 2], [2, 4], \n",
    "    [1, 4], [7, 5], [2, 2], [1, 8], [7, 1], [2, 5]\n",
    "], dtype=torch.float32)\n",
    "\n",
    "kmeans = KMeans()\n",
    "for k in range(1, 4):\n",
    "    centroids = kmeans.find_centroids(dataset, num_clusters=k)\n",
    "    print(\"Centroids for k={}: {}\".format(k, centroids))"
   ],
   "metadata": {
    "collapsed": false,
    "ExecuteTime": {
     "end_time": "2024-05-02T04:51:52.971031Z",
     "start_time": "2024-05-02T04:51:52.912384Z"
    }
   },
   "id": "2a2af7611b3758f3",
   "execution_count": 9
  },
  {
   "cell_type": "markdown",
   "source": [
    "Lets generate some random data to test the KMeans implementation. For that we pick three random points around which we will generate clustered datapoints. We hope that our KMeans implementation will be able to find these three clusters later."
   ],
   "metadata": {
    "collapsed": false
   },
   "id": "cc839825d70f1d66"
  },
  {
   "cell_type": "code",
   "outputs": [
    {
     "name": "stdout",
     "output_type": "stream",
     "text": [
      "Found centroids after 9 iterations:\n",
      "\n",
      "tensor([[-0.1609,  1.3716],\n",
      "        [-1.1851, -0.3469],\n",
      "        [-1.0667,  0.5884]])\n"
     ]
    },
    {
     "data": {
      "text/plain": "<Figure size 800x800 with 1 Axes>",
      "image/png": "[encoded data removed]"
     },
     "metadata": {},
     "output_type": "display_data"
    }
   ],
   "source": [
    "import torch\n",
    "import matplotlib.pyplot as plt\n",
    "\n",
    "# Geneating the dataset\n",
    "num_clusters = 3\n",
    "num_points_per_cluster = 100\n",
    "cluster_centers = torch.randn(num_clusters, 2) * 2\n",
    "X = torch.zeros(num_clusters * num_points_per_cluster, 2)\n",
    "for i in range(num_clusters):\n",
    "    cluster_points = torch.randn(num_points_per_cluster, 2) * 0.5 + cluster_centers[i]\n",
    "    X[i*num_points_per_cluster:(i+1)*num_points_per_cluster] = cluster_points\n",
    "\n",
    "# Finding the cluster centers using KMeans\n",
    "kmeans = KMeans()\n",
    "max_iterations=10\n",
    "found_centroids, num_iterations = kmeans.find_centroids(X, num_clusters, max_iterations)\n",
    "print(\"Found centroids after {} iterations:\\n\\n{}\".format(num_iterations, found_centroids))\n",
    "\n",
    "# Visualize the generated clusters\n",
    "plt.figure(figsize=(8, 8))\n",
    "plt.scatter(X[:, 0], X[:, 1], s=10)\n",
    "plt.scatter(cluster_centers[:, 0], cluster_centers[:, 1], s=100, marker='x', c='r')\n",
    "plt.scatter(found_centroids[:, 0], found_centroids[:, 1], s=100, marker='*', c='g')\n",
    "plt.title(\"Random points in 2D\")\n",
    "plt.legend([\"Points\", \"Generating center\", \"Found cluster centroid\"])\n",
    "plt.xlabel(\"X\")\n",
    "plt.ylabel(\"Y\")\n",
    "plt.show()"
   ],
   "metadata": {
    "collapsed": false,
    "ExecuteTime": {
     "end_time": "2024-05-02T04:53:11.667236Z",
     "start_time": "2024-05-02T04:53:11.181768Z"
    }
   },
   "id": "b0c1b76eceffda85",
   "execution_count": 13
  }
 ],
 "metadata": {
  "kernelspec": {
   "display_name": "Python 3",
   "language": "python",
   "name": "python3"
  },
  "language_info": {
   "codemirror_mode": {
    "name": "ipython",
    "version": 2
   },
   "file_extension": ".py",
   "mimetype": "text/x-python",
   "name": "python",
   "nbconvert_exporter": "python",
   "pygments_lexer": "ipython2",
   "version": "2.7.6"
  }
 },
 "nbformat": 4,
 "nbformat_minor": 5
}
