{
 "cells": [
  {
   "cell_type": "markdown",
   "source": [
    "# Just a Practice Notebook for Random Data Science Stuff"
   ],
   "metadata": {
    "collapsed": false
   },
   "id": "c588e4c43c6722f6"
  },
  {
   "cell_type": "code",
   "outputs": [],
   "source": [
    "import torch"
   ],
   "metadata": {
    "collapsed": false,
    "ExecuteTime": {
     "end_time": "2024-04-30T19:37:56.302528Z",
     "start_time": "2024-04-30T19:37:50.419069Z"
    }
   },
   "id": "37eb559dc41a1498",
   "execution_count": 1
  },
  {
   "cell_type": "code",
   "outputs": [
    {
     "name": "stdout",
     "output_type": "stream",
     "text": [
      "X=tensor([1, 3, 4, 5])\n",
      "Y=tensor([7, 6, 3, 1])\n",
      "2-Norm of X: 7.141428470611572\n",
      "2-Norm of Y: 9.746794700622559\n",
      "\n",
      "Euclidean Distance: 7.874007701873779\n",
      "Manhattan Distance: 14\n",
      "Cosine Similarity: 0.6033958792686462\n",
      "Jaccard Similarity: 0.5\n"
     ]
    }
   ],
   "source": [
    "class Metrics():\n",
    "    def euclidean_distance(self, X, Y):\n",
    "        Z = X - Y\n",
    "        return torch.sqrt(torch.dot(Z, Z))\n",
    "         \n",
    "    def manhattan_distance(self, X, Y):\n",
    "        return torch.sum(torch.abs(X - Y))\n",
    "\n",
    "    def cosine_similarity(self, X, Y):\n",
    "        return torch.dot(X, Y) / (self.two_norm(X) * self.two_norm(Y))\n",
    "        # or even simpler with: \n",
    "        # return torch.cosine_similarity(X, Y, dim=0) \n",
    "\n",
    "    def jaccard_similarity(self, X, Y):                \n",
    "        XandY = set([e for e in X + Y])\n",
    "        XorY = set([e for e in X if e in Y])\n",
    "        return len(XorY) / len(XandY)\n",
    "        \n",
    "    def two_norm(self, X):\n",
    "        return sum(xi ** 2 for xi in X) ** 0.5\n",
    "\n",
    "X= torch.tensor([1,1,2,3], dtype=torch.float32)\n",
    "Y = torch.ones((4), dtype=torch.float32)\n",
    "\n",
    "X = torch.tensor([1, 3, 4, 5])\n",
    "Y = torch.tensor([7, 6, 3, 1])\n",
    "\n",
    "print(\"X={}\".format(X))\n",
    "print(\"Y={}\".format(Y))\n",
    "\n",
    "metrics = Metrics()\n",
    "print(\"2-Norm of X: {}\".format(metrics.two_norm(X)))\n",
    "print(\"2-Norm of Y: {}\".format(metrics.two_norm(Y)))\n",
    "print()\n",
    "print(\"Euclidean Distance: {}\".format(metrics.euclidean_distance(X,Y)))\n",
    "print(\"Manhattan Distance: {}\".format(metrics.manhattan_distance(X,Y)))\n",
    "print(\"Cosine Similarity: {}\".format(metrics.cosine_similarity(X,Y)))\n",
    "print(\"Jaccard Similarity: {}\".format(metrics.jaccard_similarity(X,Y)))"
   ],
   "metadata": {
    "collapsed": false,
    "ExecuteTime": {
     "end_time": "2024-04-30T19:37:56.385505Z",
     "start_time": "2024-04-30T19:37:56.313559Z"
    }
   },
   "id": "2fb9189a944a783e",
   "execution_count": 2
  }
 ],
 "metadata": {
  "kernelspec": {
   "display_name": "Python 3",
   "language": "python",
   "name": "python3"
  },
  "language_info": {
   "codemirror_mode": {
    "name": "ipython",
    "version": 2
   },
   "file_extension": ".py",
   "mimetype": "text/x-python",
   "name": "python",
   "nbconvert_exporter": "python",
   "pygments_lexer": "ipython2",
   "version": "2.7.6"
  }
 },
 "nbformat": 4,
 "nbformat_minor": 5
}
